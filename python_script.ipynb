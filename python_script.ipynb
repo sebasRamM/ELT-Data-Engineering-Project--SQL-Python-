{
 "cells": [
  {
   "cell_type": "code",
   "execution_count": null,
   "id": "ddfc73ac",
   "metadata": {
    "vscode": {
     "languageId": "plaintext"
    }
   },
   "outputs": [],
   "source": [
    "import pandas as pd \n",
    "df = pd.read_csv(\"netflix_title.csv\")"
   ]
  },
  {
   "cell_type": "code",
   "execution_count": null,
   "id": "6401622a",
   "metadata": {
    "vscode": {
     "languageId": "plaintext"
    }
   },
   "outputs": [],
   "source": [
    "df.head(5)"
   ]
  },
  {
   "cell_type": "code",
   "execution_count": null,
   "id": "ea7c9784",
   "metadata": {},
   "outputs": [],
   "source": []
  }
 ],
 "metadata": {
  "language_info": {
   "name": "python"
  }
 },
 "nbformat": 4,
 "nbformat_minor": 5
}
